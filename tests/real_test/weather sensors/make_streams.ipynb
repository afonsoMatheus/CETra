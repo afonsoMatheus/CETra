{
 "cells": [
  {
   "cell_type": "code",
   "execution_count": 1,
   "metadata": {},
   "outputs": [],
   "source": [
    "import csv\n",
    "import pandas as pd\n",
    "import glob"
   ]
  },
  {
   "cell_type": "code",
   "execution_count": 2,
   "metadata": {},
   "outputs": [],
   "source": [
    "files = glob.glob('**/**/*.csv', recursive=False)"
   ]
  },
  {
   "cell_type": "code",
   "execution_count": 3,
   "metadata": {},
   "outputs": [],
   "source": [
    "i = 1\n",
    "info = open(\"/home/afonso/Documentos/Dissertação/Masters Degree/tests/real_test/info\", \"w\")\n",
    "for fp in files:\n",
    "    \n",
    "    df = pd.read_csv(fp)\n",
    "    \n",
    "    info.write(str(i) + \" \" + fp + \"\\n\")\n",
    "    \n",
    "    df.sort_values(by=['Data'])\n",
    "    \n",
    "    doc = open(\"/home/afonso/Documentos/Dissertação/Masters Degree/tests/real_test/podclus/wInput/\" + str(i), \"w\")\n",
    "    \n",
    "    aux = list(df['Temperatura_Maxima'])\n",
    "    \n",
    "    doc.write(\"TemperaturaMaxima\\n\")\n",
    "    [doc.write(str(t)+\"\\n\") for t in aux]\n",
    "    \n",
    "    i = i + 1\n",
    "    \n",
    "    doc.close()\n",
    "    \n",
    "info.close()"
   ]
  },
  {
   "cell_type": "code",
   "execution_count": null,
   "metadata": {},
   "outputs": [],
   "source": []
  }
 ],
 "metadata": {
  "kernelspec": {
   "display_name": "Python 3",
   "language": "python",
   "name": "python3"
  },
  "language_info": {
   "codemirror_mode": {
    "name": "ipython",
    "version": 3
   },
   "file_extension": ".py",
   "mimetype": "text/x-python",
   "name": "python",
   "nbconvert_exporter": "python",
   "pygments_lexer": "ipython3",
   "version": "3.8.10"
  }
 },
 "nbformat": 4,
 "nbformat_minor": 4
}
